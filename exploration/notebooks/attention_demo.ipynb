{
 "cells": [
  {
   "cell_type": "markdown",
   "metadata": {},
   "source": [
    "# Attention Mechanisms in Transformers\n",
    "\n",
    "This notebook provides an interactive environment to explore and understand attention mechanisms in transformer models. You can modify parameters, run the model, and visualize attention patterns."
   ]
  },
  {
   "cell_type": "code",
   "execution_count": 1,
   "metadata": {},
   "outputs": [],
   "source": [
    "# Import necessary libraries\n",
    "import torch\n",
    "from model import GPT, GPTConfig\n",
    "from train import SimpleDataset, train\n",
    "from attention_demo import visualize_attention_weights, get_attention_patterns\n",
    "import json\n",
    "\n",
    "# Load configuration\n",
    "with open('../config.json', 'r') as f:\n",
    "    config_data = json.load(f)\n",
    "\n",
    "# Initialize model configuration\n",
    "config = GPTConfig(\n",
    "    vocab_size=config_data['vocab_size'],\n",
    "    block_size=config_data['block_size'],\n",
    "    n_layer=config_data['n_layer'],\n",
    "    n_head=config_data['n_head'],\n",
    "    n_embd=config_data['n_embd'],\n",
    "    dropout=config_data['dropout'],\n",
    "    debug=config_data['debug']\n",
    ")\n",
    "\n",
    "# Create dataset and model\n",
    "dataset = SimpleDataset(config.block_size)\n",
    "model = GPT(config)\n",
    "\n",
    "# Train the model\n",
    "train(model, dataset, epochs=1, batch_size=4)\n",
    "\n",
    "# Analyze attention patterns\n",
    "text = \"the quick brown fox\"\n",
    "words, qk_vectors = get_attention_patterns(model, text, dataset)\n",
    "for layer_idx, (layer_name, (q, k)) in enumerate(qk_vectors):\n",
    "    att = torch.matmul(q, k.transpose(-2, -1)) / torch.sqrt(torch.tensor(q.size(-1), dtype=torch.float32))\n",
    "    att = torch.nn.functional.softmax(att, dim=-1)\n",
    "    visualize_attention_weights(att[0], words, f\"Layer {layer_idx+1}\")"
   ]
  }
 ],
 "metadata": {
  "kernelspec": {
   "display_name": "Python 3",
   "language": "python",
   "name": "python3"
  },
  "language_info": {
   "codemirror_mode": {
    "name": "ipython",
    "version": 3
   },
   "file_extension": ".py",
   "mimetype": "text/x-python",
   "name": "python",
   "nbconvert_exporter": "python",
   "pygments_lexer": "ipython3",
   "version": "3.8.5"
  }
 },
 "nbformat": 4,
 "nbformat_minor": 5
}
